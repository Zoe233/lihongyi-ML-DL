{
 "cells": [
  {
   "cell_type": "markdown",
   "metadata": {},
   "source": [
    "# Lec 01 深度学习介绍\n",
    "Review: Basic Structures for Deep Learning Models "
   ]
  },
  {
   "cell_type": "markdown",
   "metadata": {},
   "source": [
    "## 1. 深度学习的三大步骤\n",
    "### 第一步：Neural Network\n",
    "A neural network is a function composed of simple functions(neurons).       \n",
    "\n",
    "- Usually we design the network structure, and let machine find parameters from data.\n",
    "\n",
    "通过简单的神经元函数组成神经网络。\n",
    "设计网络结构，根据数据学习到模型的参数。"
   ]
  },
  {
   "cell_type": "markdown",
   "metadata": {},
   "source": [
    "### 第二步：Cost Function\n",
    "Cost function evalutes how good a set of parameters is.   \n",
    "\n",
    "- We design the cost function based on the task\n",
    "\n",
    "根据任务找到合适的代价函数，评估函数的参数效果。"
   ]
  },
  {
   "cell_type": "markdown",
   "metadata": {},
   "source": [
    "### 第三步：Optimization\n",
    "Find the best function set (e.g. gradient descent)  \n",
    "\n",
    "找到最好的方程，例如：用梯度下降法、最小二乘法、牛顿法等最优化方法。"
   ]
  },
  {
   "cell_type": "markdown",
   "metadata": {},
   "source": [
    "-----"
   ]
  },
  {
   "cell_type": "markdown",
   "metadata": {},
   "source": [
    "<h2 style='color:blue'>第一步：Neural Network</h2>\n"
   ]
  },
  {
   "cell_type": "markdown",
   "metadata": {},
   "source": [
    "### 大纲\n",
    "- Basic Structure(3/03)\n",
    "    - Fully Connected Layer\n",
    "    - Recurrent Structure\n",
    "    - Convolutional/Pooling Layer\n",
    "\n",
    "- Special Structure(3/17)\n",
    "    - Spatial Transformation Layer\n",
    "    - Highway Netword / Grid LSTM\n",
    "    - Recursive Structure\n",
    "    - External Memory\n",
    "    - Batch Normalizationn \n",
    "    - Sequence-to-sequence / Attention (3/24)"
   ]
  },
  {
   "cell_type": "markdown",
   "metadata": {},
   "source": [
    "___"
   ]
  },
  {
   "cell_type": "markdown",
   "metadata": {},
   "source": [
    "<h3 style='color:blue'>Basic Structure: Fully Connected Layer </h3>"
   ]
  },
  {
   "cell_type": "markdown",
   "metadata": {},
   "source": [
    "下面是图示和标记的意义：\n",
    "<img src='./images/fullynn_001.png' width='50%'/>\n",
    "\n",
    "网络层Layer：    \n",
    "- Layer l 表示第l层\n",
    "- Layer l-1  表示第l-1层\n",
    "\n",
    "每层的神经元Neurons：    \n",
    "- $N_{l-1} \\ nodes$表示第I-1层的神经元们；   \n",
    "- $N_{l} \\ nodes$表示第I层的神经元们；\n",
    "\n",
    "Output of a neuron:   \n",
    "- $a^l_{i}$ 上标表示是第l层的Layer，下标i表示该层神经元的标记；即第l层Layer的第i个神经元； \n",
    "\n",
    "Output of one layer:   \n",
    "- $a^l$ 表示第l层的神经元组成的一个向量。"
   ]
  },
  {
   "cell_type": "markdown",
   "metadata": {},
   "source": [
    "Fully Connected Layer之间的Layer都是两两相接的，Neuron和Neuron之间的连接有相应的权重W。\n",
    "<img src='./images/fullynn_002.png' width='50%'/>\n",
    "\n",
    "权重W：   \n",
    "- $W^l_{ij}$ \n",
    "    - 上标l表示第l-1层到第l层的权重； \n",
    "    - 下标ij表示从神经元j（Layer l-1）到神经元i（Layer l）\n",
    "    - 即：第l-1层的第j个神经元到第l层的第i个神经元的权重。\n",
    "\n",
    "- $W^l$\n",
    "    - 表示Layer l-1 到Layer l之间的权重组成的矩阵。\n",
    "    \n",
    " <img src='./images/fullynn_003.png' width='40%'/>\n",
    " \n",
    "- $N_{l-1}$\n",
    "    - 表示$W^{l}$矩阵中的行，表示从Layer l-1的neuron到Layer l的指定neuron的所有权重向量。\n",
    "\n",
    "- $N_{l}$\n",
    "    - 表示$W^{l}$矩阵中的列，表示从Layer l-1的指定neuron到Layer l的所有neuron的所有权重向量。"
   ]
  },
  {
   "attachments": {},
   "cell_type": "markdown",
   "metadata": {},
   "source": [
    " <img src='./images/fullynn_004.png' width='40%'/>\n",
    " \n",
    " - $b^l_{i}$\n",
    "     - 表示Layer l层的第i个neuron的bias\n",
    "    \n",
    " - $b^l$\n",
    "     - 表示Layer l层的bias构成的向量\n",
    "<img src='./images/fullynn_005.png' width='30%'/>"
   ]
  },
  {
   "cell_type": "markdown",
   "metadata": {},
   "source": [
    "----"
   ]
  },
  {
   "cell_type": "markdown",
   "metadata": {},
   "source": [
    "下面是神经网络的neuronji'suan"
   ]
  },
  {
   "cell_type": "markdown",
   "metadata": {},
   "source": []
  },
  {
   "cell_type": "markdown",
   "metadata": {},
   "source": []
  },
  {
   "cell_type": "markdown",
   "metadata": {},
   "source": []
  },
  {
   "cell_type": "markdown",
   "metadata": {},
   "source": []
  },
  {
   "cell_type": "markdown",
   "metadata": {},
   "source": []
  },
  {
   "cell_type": "markdown",
   "metadata": {},
   "source": []
  },
  {
   "cell_type": "markdown",
   "metadata": {},
   "source": []
  },
  {
   "cell_type": "markdown",
   "metadata": {},
   "source": []
  },
  {
   "cell_type": "markdown",
   "metadata": {},
   "source": []
  }
 ],
 "metadata": {
  "kernelspec": {
   "display_name": "Python 3",
   "language": "python",
   "name": "python3"
  },
  "language_info": {
   "codemirror_mode": {
    "name": "ipython",
    "version": 3
   },
   "file_extension": ".py",
   "mimetype": "text/x-python",
   "name": "python",
   "nbconvert_exporter": "python",
   "pygments_lexer": "ipython3",
   "version": "3.6.5"
  }
 },
 "nbformat": 4,
 "nbformat_minor": 2
}
