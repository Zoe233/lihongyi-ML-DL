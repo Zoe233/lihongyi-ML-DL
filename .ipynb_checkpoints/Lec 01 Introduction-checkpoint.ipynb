{
 "cells": [
  {
   "cell_type": "markdown",
   "metadata": {},
   "source": [
    "# Lec 01 深度学习介绍\n",
    "Review: Basic Structures for Deep Learning Models "
   ]
  },
  {
   "cell_type": "markdown",
   "metadata": {},
   "source": [
    "## 1. 深度学习的三大步骤\n",
    "### 第一步：Neural Network\n",
    "A neural network is a function composed of simple functions(neurons).       \n",
    "\n",
    "- Usually we design the network structure, and let machine find parameters from data.\n",
    "\n",
    "通过简单的神经元函数组成神经网络。\n",
    "设计网络结构，根据数据学习到模型的参数。"
   ]
  },
  {
   "cell_type": "markdown",
   "metadata": {},
   "source": [
    "### 第二步：Cost Function\n",
    "Cost function evalutes how good a set of parameters is.   \n",
    "\n",
    "- We design the cost function based on the task\n",
    "\n",
    "根据任务找到合适的代价函数，评估函数的参数效果。"
   ]
  },
  {
   "cell_type": "markdown",
   "metadata": {},
   "source": [
    "### 第三步：Optimization\n",
    "Find the best function set (e.g. gradient descent)  \n",
    "\n",
    "找到最好的方程，例如：用梯度下降法、最小二乘法、牛顿法等最优化方法。"
   ]
  },
  {
   "cell_type": "markdown",
   "metadata": {},
   "source": [
    "-----"
   ]
  },
  {
   "cell_type": "markdown",
   "metadata": {},
   "source": [
    "<h2 style='color:blue'>第一步：Neural Network</h2>\n"
   ]
  },
  {
   "cell_type": "markdown",
   "metadata": {},
   "source": [
    "### 大纲\n",
    "- Basic Structure(3/03)\n",
    "    - Fully Connected Layer\n",
    "    - Recurrent Structure\n",
    "    - Convolutional/Pooling Layer\n",
    "\n",
    "- Special Structure(3/17)\n",
    "    - Spatial Transformation Layer\n",
    "    - Highway Netword / Grid LSTM\n",
    "    - Recursive Structure\n",
    "    - External Memory\n",
    "    - Batch Normalizationn \n",
    "    - Sequence-to-sequence / Attention (3/24)"
   ]
  },
  {
   "cell_type": "markdown",
   "metadata": {},
   "source": [
    "___"
   ]
  },
  {
   "cell_type": "markdown",
   "metadata": {},
   "source": [
    "### Fully Connected Layer "
   ]
  },
  {
   "cell_type": "markdown",
   "metadata": {},
   "source": []
  }
 ],
 "metadata": {
  "kernelspec": {
   "display_name": "Python 3",
   "language": "python",
   "name": "python3"
  },
  "language_info": {
   "codemirror_mode": {
    "name": "ipython",
    "version": 3
   },
   "file_extension": ".py",
   "mimetype": "text/x-python",
   "name": "python",
   "nbconvert_exporter": "python",
   "pygments_lexer": "ipython3",
   "version": "3.6.5"
  }
 },
 "nbformat": 4,
 "nbformat_minor": 2
}
